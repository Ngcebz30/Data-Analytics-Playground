{
  "nbformat": 4,
  "nbformat_minor": 0,
  "metadata": {
    "colab": {
      "provenance": [],
      "authorship_tag": "ABX9TyPrt0Qth3YJ0EjeBzkNpUSU",
      "include_colab_link": true
    },
    "kernelspec": {
      "name": "python3",
      "display_name": "Python 3"
    },
    "language_info": {
      "name": "python"
    }
  },
  "cells": [
    {
      "cell_type": "markdown",
      "metadata": {
        "id": "view-in-github",
        "colab_type": "text"
      },
      "source": [
        "<a href=\"https://colab.research.google.com/github/Ngcebz30/Data-Analytics-Playground/blob/main/Smartwatch%20Price%20Analysis%20%E2%8C%9A/Smartwatch_Price_Analysis_Uncovering_Market_Leaders_and_Pricing_Opportunities.ipynb\" target=\"_parent\"><img src=\"https://colab.research.google.com/assets/colab-badge.svg\" alt=\"Open In Colab\"/></a>"
      ]
    },
    {
      "cell_type": "markdown",
      "source": [
        "#### **Q: Which brand or model of smartwatch commands the highest price point in the current market, and how can this information be leveraged to inform pricing strategies and gain a competitive advantage?**"
      ],
      "metadata": {
        "id": "3nx6lJt2J8_7"
      }
    },
    {
      "cell_type": "code",
      "execution_count": 1,
      "metadata": {
        "colab": {
          "base_uri": "https://localhost:8080/"
        },
        "id": "I_WoE-8T7j8b",
        "outputId": "5c0f9e5f-97ca-4282-c755-5baab869f6cb"
      },
      "outputs": [
        {
          "output_type": "stream",
          "name": "stdout",
          "text": [
            "Looking in indexes: https://pypi.org/simple, https://us-python.pkg.dev/colab-wheels/public/simple/\n",
            "Requirement already satisfied: pandas in /usr/local/lib/python3.10/dist-packages (1.5.3)\n",
            "Requirement already satisfied: numpy>=1.21.0 in /usr/local/lib/python3.10/dist-packages (from pandas) (1.22.4)\n",
            "Requirement already satisfied: python-dateutil>=2.8.1 in /usr/local/lib/python3.10/dist-packages (from pandas) (2.8.2)\n",
            "Requirement already satisfied: pytz>=2020.1 in /usr/local/lib/python3.10/dist-packages (from pandas) (2022.7.1)\n",
            "Requirement already satisfied: six>=1.5 in /usr/local/lib/python3.10/dist-packages (from python-dateutil>=2.8.1->pandas) (1.16.0)\n"
          ]
        }
      ],
      "source": [
        "# Install pandas library using pip\n",
        "!pip install pandas"
      ]
    },
    {
      "cell_type": "code",
      "source": [
        "# Import the necessary libraries\n",
        "import pandas as pd\n",
        "import numpy as np\n",
        "import matplotlib.pyplot as plt\n",
        "%matplotlib inline"
      ],
      "metadata": {
        "id": "RbEahs8J75VO"
      },
      "execution_count": 2,
      "outputs": []
    },
    {
      "cell_type": "code",
      "source": [
        "# Upload the CSV file\n",
        "from google.colab import files\n",
        "uploaded = files.upload()"
      ],
      "metadata": {
        "colab": {
          "base_uri": "https://localhost:8080/",
          "height": 73
        },
        "id": "J1cLHVwF8EL-",
        "outputId": "966c4d83-347c-46b4-bfb8-c1422c44b82b"
      },
      "execution_count": 3,
      "outputs": [
        {
          "output_type": "display_data",
          "data": {
            "text/plain": [
              "<IPython.core.display.HTML object>"
            ],
            "text/html": [
              "\n",
              "     <input type=\"file\" id=\"files-b18c1edc-a9f4-4085-9662-76c052d9dc21\" name=\"files[]\" multiple disabled\n",
              "        style=\"border:none\" />\n",
              "     <output id=\"result-b18c1edc-a9f4-4085-9662-76c052d9dc21\">\n",
              "      Upload widget is only available when the cell has been executed in the\n",
              "      current browser session. Please rerun this cell to enable.\n",
              "      </output>\n",
              "      <script>// Copyright 2017 Google LLC\n",
              "//\n",
              "// Licensed under the Apache License, Version 2.0 (the \"License\");\n",
              "// you may not use this file except in compliance with the License.\n",
              "// You may obtain a copy of the License at\n",
              "//\n",
              "//      http://www.apache.org/licenses/LICENSE-2.0\n",
              "//\n",
              "// Unless required by applicable law or agreed to in writing, software\n",
              "// distributed under the License is distributed on an \"AS IS\" BASIS,\n",
              "// WITHOUT WARRANTIES OR CONDITIONS OF ANY KIND, either express or implied.\n",
              "// See the License for the specific language governing permissions and\n",
              "// limitations under the License.\n",
              "\n",
              "/**\n",
              " * @fileoverview Helpers for google.colab Python module.\n",
              " */\n",
              "(function(scope) {\n",
              "function span(text, styleAttributes = {}) {\n",
              "  const element = document.createElement('span');\n",
              "  element.textContent = text;\n",
              "  for (const key of Object.keys(styleAttributes)) {\n",
              "    element.style[key] = styleAttributes[key];\n",
              "  }\n",
              "  return element;\n",
              "}\n",
              "\n",
              "// Max number of bytes which will be uploaded at a time.\n",
              "const MAX_PAYLOAD_SIZE = 100 * 1024;\n",
              "\n",
              "function _uploadFiles(inputId, outputId) {\n",
              "  const steps = uploadFilesStep(inputId, outputId);\n",
              "  const outputElement = document.getElementById(outputId);\n",
              "  // Cache steps on the outputElement to make it available for the next call\n",
              "  // to uploadFilesContinue from Python.\n",
              "  outputElement.steps = steps;\n",
              "\n",
              "  return _uploadFilesContinue(outputId);\n",
              "}\n",
              "\n",
              "// This is roughly an async generator (not supported in the browser yet),\n",
              "// where there are multiple asynchronous steps and the Python side is going\n",
              "// to poll for completion of each step.\n",
              "// This uses a Promise to block the python side on completion of each step,\n",
              "// then passes the result of the previous step as the input to the next step.\n",
              "function _uploadFilesContinue(outputId) {\n",
              "  const outputElement = document.getElementById(outputId);\n",
              "  const steps = outputElement.steps;\n",
              "\n",
              "  const next = steps.next(outputElement.lastPromiseValue);\n",
              "  return Promise.resolve(next.value.promise).then((value) => {\n",
              "    // Cache the last promise value to make it available to the next\n",
              "    // step of the generator.\n",
              "    outputElement.lastPromiseValue = value;\n",
              "    return next.value.response;\n",
              "  });\n",
              "}\n",
              "\n",
              "/**\n",
              " * Generator function which is called between each async step of the upload\n",
              " * process.\n",
              " * @param {string} inputId Element ID of the input file picker element.\n",
              " * @param {string} outputId Element ID of the output display.\n",
              " * @return {!Iterable<!Object>} Iterable of next steps.\n",
              " */\n",
              "function* uploadFilesStep(inputId, outputId) {\n",
              "  const inputElement = document.getElementById(inputId);\n",
              "  inputElement.disabled = false;\n",
              "\n",
              "  const outputElement = document.getElementById(outputId);\n",
              "  outputElement.innerHTML = '';\n",
              "\n",
              "  const pickedPromise = new Promise((resolve) => {\n",
              "    inputElement.addEventListener('change', (e) => {\n",
              "      resolve(e.target.files);\n",
              "    });\n",
              "  });\n",
              "\n",
              "  const cancel = document.createElement('button');\n",
              "  inputElement.parentElement.appendChild(cancel);\n",
              "  cancel.textContent = 'Cancel upload';\n",
              "  const cancelPromise = new Promise((resolve) => {\n",
              "    cancel.onclick = () => {\n",
              "      resolve(null);\n",
              "    };\n",
              "  });\n",
              "\n",
              "  // Wait for the user to pick the files.\n",
              "  const files = yield {\n",
              "    promise: Promise.race([pickedPromise, cancelPromise]),\n",
              "    response: {\n",
              "      action: 'starting',\n",
              "    }\n",
              "  };\n",
              "\n",
              "  cancel.remove();\n",
              "\n",
              "  // Disable the input element since further picks are not allowed.\n",
              "  inputElement.disabled = true;\n",
              "\n",
              "  if (!files) {\n",
              "    return {\n",
              "      response: {\n",
              "        action: 'complete',\n",
              "      }\n",
              "    };\n",
              "  }\n",
              "\n",
              "  for (const file of files) {\n",
              "    const li = document.createElement('li');\n",
              "    li.append(span(file.name, {fontWeight: 'bold'}));\n",
              "    li.append(span(\n",
              "        `(${file.type || 'n/a'}) - ${file.size} bytes, ` +\n",
              "        `last modified: ${\n",
              "            file.lastModifiedDate ? file.lastModifiedDate.toLocaleDateString() :\n",
              "                                    'n/a'} - `));\n",
              "    const percent = span('0% done');\n",
              "    li.appendChild(percent);\n",
              "\n",
              "    outputElement.appendChild(li);\n",
              "\n",
              "    const fileDataPromise = new Promise((resolve) => {\n",
              "      const reader = new FileReader();\n",
              "      reader.onload = (e) => {\n",
              "        resolve(e.target.result);\n",
              "      };\n",
              "      reader.readAsArrayBuffer(file);\n",
              "    });\n",
              "    // Wait for the data to be ready.\n",
              "    let fileData = yield {\n",
              "      promise: fileDataPromise,\n",
              "      response: {\n",
              "        action: 'continue',\n",
              "      }\n",
              "    };\n",
              "\n",
              "    // Use a chunked sending to avoid message size limits. See b/62115660.\n",
              "    let position = 0;\n",
              "    do {\n",
              "      const length = Math.min(fileData.byteLength - position, MAX_PAYLOAD_SIZE);\n",
              "      const chunk = new Uint8Array(fileData, position, length);\n",
              "      position += length;\n",
              "\n",
              "      const base64 = btoa(String.fromCharCode.apply(null, chunk));\n",
              "      yield {\n",
              "        response: {\n",
              "          action: 'append',\n",
              "          file: file.name,\n",
              "          data: base64,\n",
              "        },\n",
              "      };\n",
              "\n",
              "      let percentDone = fileData.byteLength === 0 ?\n",
              "          100 :\n",
              "          Math.round((position / fileData.byteLength) * 100);\n",
              "      percent.textContent = `${percentDone}% done`;\n",
              "\n",
              "    } while (position < fileData.byteLength);\n",
              "  }\n",
              "\n",
              "  // All done.\n",
              "  yield {\n",
              "    response: {\n",
              "      action: 'complete',\n",
              "    }\n",
              "  };\n",
              "}\n",
              "\n",
              "scope.google = scope.google || {};\n",
              "scope.google.colab = scope.google.colab || {};\n",
              "scope.google.colab._files = {\n",
              "  _uploadFiles,\n",
              "  _uploadFilesContinue,\n",
              "};\n",
              "})(self);\n",
              "</script> "
            ]
          },
          "metadata": {}
        },
        {
          "output_type": "stream",
          "name": "stdout",
          "text": [
            "Saving Smart watch prices.csv to Smart watch prices.csv\n"
          ]
        }
      ]
    },
    {
      "cell_type": "code",
      "source": [
        "# Load the CSV file into a Pandas DataFrame\n",
        "df = pd.read_csv('Smart watch prices.csv')"
      ],
      "metadata": {
        "id": "ofKxvpgI8PVS"
      },
      "execution_count": 4,
      "outputs": []
    },
    {
      "cell_type": "code",
      "source": [
        "# Explore the data: \n",
        "\n",
        "# Check the first few rows of the DataFrame\n",
        "df.head()"
      ],
      "metadata": {
        "colab": {
          "base_uri": "https://localhost:8080/",
          "height": 302
        },
        "id": "y8V7ZQQn8U_F",
        "outputId": "c2d98321-65f1-4d1f-dc76-16f1feb0bb19"
      },
      "execution_count": 5,
      "outputs": [
        {
          "output_type": "execute_result",
          "data": {
            "text/plain": [
              "     Brand           Model Operating System                Connectivity  \\\n",
              "0    Apple  Watch Series 7          watchOS  Bluetooth, Wi-Fi, Cellular   \n",
              "1  Samsung  Galaxy Watch 4          Wear OS  Bluetooth, Wi-Fi, Cellular   \n",
              "2   Garmin          Venu 2        Garmin OS            Bluetooth, Wi-Fi   \n",
              "3   Fitbit         Versa 3        Fitbit OS            Bluetooth, Wi-Fi   \n",
              "4   Fossil           Gen 6          Wear OS            Bluetooth, Wi-Fi   \n",
              "\n",
              "  Display Type  Display Size (inches) Resolution Water Resistance (meters)  \\\n",
              "0       Retina                   1.90  396 x 484                        50   \n",
              "1       AMOLED                   1.40  450 x 450                        50   \n",
              "2       AMOLED                   1.30  416 x 416                        50   \n",
              "3       AMOLED                   1.58  336 x 336                        50   \n",
              "4       AMOLED                   1.28  416 x 416                        30   \n",
              "\n",
              "  Battery Life (days) Heart Rate Monitor  GPS  NFC Price (USD)  \n",
              "0                  18                Yes  Yes  Yes       $399   \n",
              "1                  40                Yes  Yes  Yes       $249   \n",
              "2                  11                Yes  Yes   No       $399   \n",
              "3                   6                Yes  Yes  Yes       $229   \n",
              "4                  24                Yes  Yes  Yes       $299   "
            ],
            "text/html": [
              "\n",
              "  <div id=\"df-286871a2-420d-4fd5-8692-1545ffaa2ede\">\n",
              "    <div class=\"colab-df-container\">\n",
              "      <div>\n",
              "<style scoped>\n",
              "    .dataframe tbody tr th:only-of-type {\n",
              "        vertical-align: middle;\n",
              "    }\n",
              "\n",
              "    .dataframe tbody tr th {\n",
              "        vertical-align: top;\n",
              "    }\n",
              "\n",
              "    .dataframe thead th {\n",
              "        text-align: right;\n",
              "    }\n",
              "</style>\n",
              "<table border=\"1\" class=\"dataframe\">\n",
              "  <thead>\n",
              "    <tr style=\"text-align: right;\">\n",
              "      <th></th>\n",
              "      <th>Brand</th>\n",
              "      <th>Model</th>\n",
              "      <th>Operating System</th>\n",
              "      <th>Connectivity</th>\n",
              "      <th>Display Type</th>\n",
              "      <th>Display Size (inches)</th>\n",
              "      <th>Resolution</th>\n",
              "      <th>Water Resistance (meters)</th>\n",
              "      <th>Battery Life (days)</th>\n",
              "      <th>Heart Rate Monitor</th>\n",
              "      <th>GPS</th>\n",
              "      <th>NFC</th>\n",
              "      <th>Price (USD)</th>\n",
              "    </tr>\n",
              "  </thead>\n",
              "  <tbody>\n",
              "    <tr>\n",
              "      <th>0</th>\n",
              "      <td>Apple</td>\n",
              "      <td>Watch Series 7</td>\n",
              "      <td>watchOS</td>\n",
              "      <td>Bluetooth, Wi-Fi, Cellular</td>\n",
              "      <td>Retina</td>\n",
              "      <td>1.90</td>\n",
              "      <td>396 x 484</td>\n",
              "      <td>50</td>\n",
              "      <td>18</td>\n",
              "      <td>Yes</td>\n",
              "      <td>Yes</td>\n",
              "      <td>Yes</td>\n",
              "      <td>$399</td>\n",
              "    </tr>\n",
              "    <tr>\n",
              "      <th>1</th>\n",
              "      <td>Samsung</td>\n",
              "      <td>Galaxy Watch 4</td>\n",
              "      <td>Wear OS</td>\n",
              "      <td>Bluetooth, Wi-Fi, Cellular</td>\n",
              "      <td>AMOLED</td>\n",
              "      <td>1.40</td>\n",
              "      <td>450 x 450</td>\n",
              "      <td>50</td>\n",
              "      <td>40</td>\n",
              "      <td>Yes</td>\n",
              "      <td>Yes</td>\n",
              "      <td>Yes</td>\n",
              "      <td>$249</td>\n",
              "    </tr>\n",
              "    <tr>\n",
              "      <th>2</th>\n",
              "      <td>Garmin</td>\n",
              "      <td>Venu 2</td>\n",
              "      <td>Garmin OS</td>\n",
              "      <td>Bluetooth, Wi-Fi</td>\n",
              "      <td>AMOLED</td>\n",
              "      <td>1.30</td>\n",
              "      <td>416 x 416</td>\n",
              "      <td>50</td>\n",
              "      <td>11</td>\n",
              "      <td>Yes</td>\n",
              "      <td>Yes</td>\n",
              "      <td>No</td>\n",
              "      <td>$399</td>\n",
              "    </tr>\n",
              "    <tr>\n",
              "      <th>3</th>\n",
              "      <td>Fitbit</td>\n",
              "      <td>Versa 3</td>\n",
              "      <td>Fitbit OS</td>\n",
              "      <td>Bluetooth, Wi-Fi</td>\n",
              "      <td>AMOLED</td>\n",
              "      <td>1.58</td>\n",
              "      <td>336 x 336</td>\n",
              "      <td>50</td>\n",
              "      <td>6</td>\n",
              "      <td>Yes</td>\n",
              "      <td>Yes</td>\n",
              "      <td>Yes</td>\n",
              "      <td>$229</td>\n",
              "    </tr>\n",
              "    <tr>\n",
              "      <th>4</th>\n",
              "      <td>Fossil</td>\n",
              "      <td>Gen 6</td>\n",
              "      <td>Wear OS</td>\n",
              "      <td>Bluetooth, Wi-Fi</td>\n",
              "      <td>AMOLED</td>\n",
              "      <td>1.28</td>\n",
              "      <td>416 x 416</td>\n",
              "      <td>30</td>\n",
              "      <td>24</td>\n",
              "      <td>Yes</td>\n",
              "      <td>Yes</td>\n",
              "      <td>Yes</td>\n",
              "      <td>$299</td>\n",
              "    </tr>\n",
              "  </tbody>\n",
              "</table>\n",
              "</div>\n",
              "      <button class=\"colab-df-convert\" onclick=\"convertToInteractive('df-286871a2-420d-4fd5-8692-1545ffaa2ede')\"\n",
              "              title=\"Convert this dataframe to an interactive table.\"\n",
              "              style=\"display:none;\">\n",
              "        \n",
              "  <svg xmlns=\"http://www.w3.org/2000/svg\" height=\"24px\"viewBox=\"0 0 24 24\"\n",
              "       width=\"24px\">\n",
              "    <path d=\"M0 0h24v24H0V0z\" fill=\"none\"/>\n",
              "    <path d=\"M18.56 5.44l.94 2.06.94-2.06 2.06-.94-2.06-.94-.94-2.06-.94 2.06-2.06.94zm-11 1L8.5 8.5l.94-2.06 2.06-.94-2.06-.94L8.5 2.5l-.94 2.06-2.06.94zm10 10l.94 2.06.94-2.06 2.06-.94-2.06-.94-.94-2.06-.94 2.06-2.06.94z\"/><path d=\"M17.41 7.96l-1.37-1.37c-.4-.4-.92-.59-1.43-.59-.52 0-1.04.2-1.43.59L10.3 9.45l-7.72 7.72c-.78.78-.78 2.05 0 2.83L4 21.41c.39.39.9.59 1.41.59.51 0 1.02-.2 1.41-.59l7.78-7.78 2.81-2.81c.8-.78.8-2.07 0-2.86zM5.41 20L4 18.59l7.72-7.72 1.47 1.35L5.41 20z\"/>\n",
              "  </svg>\n",
              "      </button>\n",
              "      \n",
              "  <style>\n",
              "    .colab-df-container {\n",
              "      display:flex;\n",
              "      flex-wrap:wrap;\n",
              "      gap: 12px;\n",
              "    }\n",
              "\n",
              "    .colab-df-convert {\n",
              "      background-color: #E8F0FE;\n",
              "      border: none;\n",
              "      border-radius: 50%;\n",
              "      cursor: pointer;\n",
              "      display: none;\n",
              "      fill: #1967D2;\n",
              "      height: 32px;\n",
              "      padding: 0 0 0 0;\n",
              "      width: 32px;\n",
              "    }\n",
              "\n",
              "    .colab-df-convert:hover {\n",
              "      background-color: #E2EBFA;\n",
              "      box-shadow: 0px 1px 2px rgba(60, 64, 67, 0.3), 0px 1px 3px 1px rgba(60, 64, 67, 0.15);\n",
              "      fill: #174EA6;\n",
              "    }\n",
              "\n",
              "    [theme=dark] .colab-df-convert {\n",
              "      background-color: #3B4455;\n",
              "      fill: #D2E3FC;\n",
              "    }\n",
              "\n",
              "    [theme=dark] .colab-df-convert:hover {\n",
              "      background-color: #434B5C;\n",
              "      box-shadow: 0px 1px 3px 1px rgba(0, 0, 0, 0.15);\n",
              "      filter: drop-shadow(0px 1px 2px rgba(0, 0, 0, 0.3));\n",
              "      fill: #FFFFFF;\n",
              "    }\n",
              "  </style>\n",
              "\n",
              "      <script>\n",
              "        const buttonEl =\n",
              "          document.querySelector('#df-286871a2-420d-4fd5-8692-1545ffaa2ede button.colab-df-convert');\n",
              "        buttonEl.style.display =\n",
              "          google.colab.kernel.accessAllowed ? 'block' : 'none';\n",
              "\n",
              "        async function convertToInteractive(key) {\n",
              "          const element = document.querySelector('#df-286871a2-420d-4fd5-8692-1545ffaa2ede');\n",
              "          const dataTable =\n",
              "            await google.colab.kernel.invokeFunction('convertToInteractive',\n",
              "                                                     [key], {});\n",
              "          if (!dataTable) return;\n",
              "\n",
              "          const docLinkHtml = 'Like what you see? Visit the ' +\n",
              "            '<a target=\"_blank\" href=https://colab.research.google.com/notebooks/data_table.ipynb>data table notebook</a>'\n",
              "            + ' to learn more about interactive tables.';\n",
              "          element.innerHTML = '';\n",
              "          dataTable['output_type'] = 'display_data';\n",
              "          await google.colab.output.renderOutput(dataTable, element);\n",
              "          const docLink = document.createElement('div');\n",
              "          docLink.innerHTML = docLinkHtml;\n",
              "          element.appendChild(docLink);\n",
              "        }\n",
              "      </script>\n",
              "    </div>\n",
              "  </div>\n",
              "  "
            ]
          },
          "metadata": {},
          "execution_count": 5
        }
      ]
    },
    {
      "cell_type": "code",
      "source": [
        "# Check the last few rows of the DataFrame\n",
        "df.tail()"
      ],
      "metadata": {
        "colab": {
          "base_uri": "https://localhost:8080/",
          "height": 319
        },
        "id": "KqVzY45H8dPd",
        "outputId": "01685014-da3a-467e-eabd-b7756faca863"
      },
      "execution_count": 6,
      "outputs": [
        {
          "output_type": "execute_result",
          "data": {
            "text/plain": [
              "        Brand         Model Operating System                Connectivity  \\\n",
              "374  Withings     ScanWatch      Withings OS            Bluetooth, Wi-Fi   \n",
              "375      Zepp             Z          Zepp OS  Bluetooth, Wi-Fi, Cellular   \n",
              "376     Honor  Watch GS Pro          Lite OS            Bluetooth, Wi-Fi   \n",
              "377      Oppo    Watch Free          ColorOS            Bluetooth, Wi-Fi   \n",
              "378  TicWatch         Pro 3          Wear OS  Bluetooth, Wi-Fi, Cellular   \n",
              "\n",
              "    Display Type  Display Size (inches) Resolution Water Resistance (meters)  \\\n",
              "374       PMOLED                   1.38  348 x 442                        50   \n",
              "375       AMOLED                   1.39  454 x 454                        50   \n",
              "376       AMOLED                   1.39  454 x 454                        50   \n",
              "377       AMOLED                   1.64  326 x 326                        50   \n",
              "378       AMOLED                   1.40  454 x 454                        50   \n",
              "\n",
              "    Battery Life (days) Heart Rate Monitor  GPS  NFC Price (USD)  \n",
              "374                  30                Yes   No  Yes       $279   \n",
              "375                  15                Yes  Yes  Yes       $349   \n",
              "376                  25                Yes  Yes  Yes       $249   \n",
              "377                  14                Yes   No  Yes       $159   \n",
              "378                  72                Yes  Yes  Yes       $299   "
            ],
            "text/html": [
              "\n",
              "  <div id=\"df-e05e3173-0f96-4d6b-8717-c0a1ab94398a\">\n",
              "    <div class=\"colab-df-container\">\n",
              "      <div>\n",
              "<style scoped>\n",
              "    .dataframe tbody tr th:only-of-type {\n",
              "        vertical-align: middle;\n",
              "    }\n",
              "\n",
              "    .dataframe tbody tr th {\n",
              "        vertical-align: top;\n",
              "    }\n",
              "\n",
              "    .dataframe thead th {\n",
              "        text-align: right;\n",
              "    }\n",
              "</style>\n",
              "<table border=\"1\" class=\"dataframe\">\n",
              "  <thead>\n",
              "    <tr style=\"text-align: right;\">\n",
              "      <th></th>\n",
              "      <th>Brand</th>\n",
              "      <th>Model</th>\n",
              "      <th>Operating System</th>\n",
              "      <th>Connectivity</th>\n",
              "      <th>Display Type</th>\n",
              "      <th>Display Size (inches)</th>\n",
              "      <th>Resolution</th>\n",
              "      <th>Water Resistance (meters)</th>\n",
              "      <th>Battery Life (days)</th>\n",
              "      <th>Heart Rate Monitor</th>\n",
              "      <th>GPS</th>\n",
              "      <th>NFC</th>\n",
              "      <th>Price (USD)</th>\n",
              "    </tr>\n",
              "  </thead>\n",
              "  <tbody>\n",
              "    <tr>\n",
              "      <th>374</th>\n",
              "      <td>Withings</td>\n",
              "      <td>ScanWatch</td>\n",
              "      <td>Withings OS</td>\n",
              "      <td>Bluetooth, Wi-Fi</td>\n",
              "      <td>PMOLED</td>\n",
              "      <td>1.38</td>\n",
              "      <td>348 x 442</td>\n",
              "      <td>50</td>\n",
              "      <td>30</td>\n",
              "      <td>Yes</td>\n",
              "      <td>No</td>\n",
              "      <td>Yes</td>\n",
              "      <td>$279</td>\n",
              "    </tr>\n",
              "    <tr>\n",
              "      <th>375</th>\n",
              "      <td>Zepp</td>\n",
              "      <td>Z</td>\n",
              "      <td>Zepp OS</td>\n",
              "      <td>Bluetooth, Wi-Fi, Cellular</td>\n",
              "      <td>AMOLED</td>\n",
              "      <td>1.39</td>\n",
              "      <td>454 x 454</td>\n",
              "      <td>50</td>\n",
              "      <td>15</td>\n",
              "      <td>Yes</td>\n",
              "      <td>Yes</td>\n",
              "      <td>Yes</td>\n",
              "      <td>$349</td>\n",
              "    </tr>\n",
              "    <tr>\n",
              "      <th>376</th>\n",
              "      <td>Honor</td>\n",
              "      <td>Watch GS Pro</td>\n",
              "      <td>Lite OS</td>\n",
              "      <td>Bluetooth, Wi-Fi</td>\n",
              "      <td>AMOLED</td>\n",
              "      <td>1.39</td>\n",
              "      <td>454 x 454</td>\n",
              "      <td>50</td>\n",
              "      <td>25</td>\n",
              "      <td>Yes</td>\n",
              "      <td>Yes</td>\n",
              "      <td>Yes</td>\n",
              "      <td>$249</td>\n",
              "    </tr>\n",
              "    <tr>\n",
              "      <th>377</th>\n",
              "      <td>Oppo</td>\n",
              "      <td>Watch Free</td>\n",
              "      <td>ColorOS</td>\n",
              "      <td>Bluetooth, Wi-Fi</td>\n",
              "      <td>AMOLED</td>\n",
              "      <td>1.64</td>\n",
              "      <td>326 x 326</td>\n",
              "      <td>50</td>\n",
              "      <td>14</td>\n",
              "      <td>Yes</td>\n",
              "      <td>No</td>\n",
              "      <td>Yes</td>\n",
              "      <td>$159</td>\n",
              "    </tr>\n",
              "    <tr>\n",
              "      <th>378</th>\n",
              "      <td>TicWatch</td>\n",
              "      <td>Pro 3</td>\n",
              "      <td>Wear OS</td>\n",
              "      <td>Bluetooth, Wi-Fi, Cellular</td>\n",
              "      <td>AMOLED</td>\n",
              "      <td>1.40</td>\n",
              "      <td>454 x 454</td>\n",
              "      <td>50</td>\n",
              "      <td>72</td>\n",
              "      <td>Yes</td>\n",
              "      <td>Yes</td>\n",
              "      <td>Yes</td>\n",
              "      <td>$299</td>\n",
              "    </tr>\n",
              "  </tbody>\n",
              "</table>\n",
              "</div>\n",
              "      <button class=\"colab-df-convert\" onclick=\"convertToInteractive('df-e05e3173-0f96-4d6b-8717-c0a1ab94398a')\"\n",
              "              title=\"Convert this dataframe to an interactive table.\"\n",
              "              style=\"display:none;\">\n",
              "        \n",
              "  <svg xmlns=\"http://www.w3.org/2000/svg\" height=\"24px\"viewBox=\"0 0 24 24\"\n",
              "       width=\"24px\">\n",
              "    <path d=\"M0 0h24v24H0V0z\" fill=\"none\"/>\n",
              "    <path d=\"M18.56 5.44l.94 2.06.94-2.06 2.06-.94-2.06-.94-.94-2.06-.94 2.06-2.06.94zm-11 1L8.5 8.5l.94-2.06 2.06-.94-2.06-.94L8.5 2.5l-.94 2.06-2.06.94zm10 10l.94 2.06.94-2.06 2.06-.94-2.06-.94-.94-2.06-.94 2.06-2.06.94z\"/><path d=\"M17.41 7.96l-1.37-1.37c-.4-.4-.92-.59-1.43-.59-.52 0-1.04.2-1.43.59L10.3 9.45l-7.72 7.72c-.78.78-.78 2.05 0 2.83L4 21.41c.39.39.9.59 1.41.59.51 0 1.02-.2 1.41-.59l7.78-7.78 2.81-2.81c.8-.78.8-2.07 0-2.86zM5.41 20L4 18.59l7.72-7.72 1.47 1.35L5.41 20z\"/>\n",
              "  </svg>\n",
              "      </button>\n",
              "      \n",
              "  <style>\n",
              "    .colab-df-container {\n",
              "      display:flex;\n",
              "      flex-wrap:wrap;\n",
              "      gap: 12px;\n",
              "    }\n",
              "\n",
              "    .colab-df-convert {\n",
              "      background-color: #E8F0FE;\n",
              "      border: none;\n",
              "      border-radius: 50%;\n",
              "      cursor: pointer;\n",
              "      display: none;\n",
              "      fill: #1967D2;\n",
              "      height: 32px;\n",
              "      padding: 0 0 0 0;\n",
              "      width: 32px;\n",
              "    }\n",
              "\n",
              "    .colab-df-convert:hover {\n",
              "      background-color: #E2EBFA;\n",
              "      box-shadow: 0px 1px 2px rgba(60, 64, 67, 0.3), 0px 1px 3px 1px rgba(60, 64, 67, 0.15);\n",
              "      fill: #174EA6;\n",
              "    }\n",
              "\n",
              "    [theme=dark] .colab-df-convert {\n",
              "      background-color: #3B4455;\n",
              "      fill: #D2E3FC;\n",
              "    }\n",
              "\n",
              "    [theme=dark] .colab-df-convert:hover {\n",
              "      background-color: #434B5C;\n",
              "      box-shadow: 0px 1px 3px 1px rgba(0, 0, 0, 0.15);\n",
              "      filter: drop-shadow(0px 1px 2px rgba(0, 0, 0, 0.3));\n",
              "      fill: #FFFFFF;\n",
              "    }\n",
              "  </style>\n",
              "\n",
              "      <script>\n",
              "        const buttonEl =\n",
              "          document.querySelector('#df-e05e3173-0f96-4d6b-8717-c0a1ab94398a button.colab-df-convert');\n",
              "        buttonEl.style.display =\n",
              "          google.colab.kernel.accessAllowed ? 'block' : 'none';\n",
              "\n",
              "        async function convertToInteractive(key) {\n",
              "          const element = document.querySelector('#df-e05e3173-0f96-4d6b-8717-c0a1ab94398a');\n",
              "          const dataTable =\n",
              "            await google.colab.kernel.invokeFunction('convertToInteractive',\n",
              "                                                     [key], {});\n",
              "          if (!dataTable) return;\n",
              "\n",
              "          const docLinkHtml = 'Like what you see? Visit the ' +\n",
              "            '<a target=\"_blank\" href=https://colab.research.google.com/notebooks/data_table.ipynb>data table notebook</a>'\n",
              "            + ' to learn more about interactive tables.';\n",
              "          element.innerHTML = '';\n",
              "          dataTable['output_type'] = 'display_data';\n",
              "          await google.colab.output.renderOutput(dataTable, element);\n",
              "          const docLink = document.createElement('div');\n",
              "          docLink.innerHTML = docLinkHtml;\n",
              "          element.appendChild(docLink);\n",
              "        }\n",
              "      </script>\n",
              "    </div>\n",
              "  </div>\n",
              "  "
            ]
          },
          "metadata": {},
          "execution_count": 6
        }
      ]
    },
    {
      "cell_type": "code",
      "source": [
        "# Check the data types of the columns\n",
        "df.dtypes"
      ],
      "metadata": {
        "colab": {
          "base_uri": "https://localhost:8080/"
        },
        "id": "jg2KaX4a8faK",
        "outputId": "72b361a8-f51a-4815-ec52-7b306e794c17"
      },
      "execution_count": 7,
      "outputs": [
        {
          "output_type": "execute_result",
          "data": {
            "text/plain": [
              "Brand                         object\n",
              "Model                         object\n",
              "Operating System              object\n",
              "Connectivity                  object\n",
              "Display Type                  object\n",
              "Display Size (inches)        float64\n",
              "Resolution                    object\n",
              "Water Resistance (meters)     object\n",
              "Battery Life (days)           object\n",
              "Heart Rate Monitor            object\n",
              "GPS                           object\n",
              "NFC                           object\n",
              "Price (USD)                   object\n",
              "dtype: object"
            ]
          },
          "metadata": {},
          "execution_count": 7
        }
      ]
    },
    {
      "cell_type": "code",
      "source": [
        "# Check the number of rows and columns in the DataFrame\n",
        "df.shape"
      ],
      "metadata": {
        "colab": {
          "base_uri": "https://localhost:8080/"
        },
        "id": "xDS5mDcc8l_N",
        "outputId": "2040b0ab-6ed2-4dcd-d63e-a54ff3f6f5d1"
      },
      "execution_count": 8,
      "outputs": [
        {
          "output_type": "execute_result",
          "data": {
            "text/plain": [
              "(379, 13)"
            ]
          },
          "metadata": {},
          "execution_count": 8
        }
      ]
    },
    {
      "cell_type": "code",
      "source": [
        "# Check for missing values\n",
        "df.isnull().sum()"
      ],
      "metadata": {
        "colab": {
          "base_uri": "https://localhost:8080/"
        },
        "id": "yifO8yya8qXH",
        "outputId": "3bba900d-5b42-4087-fef2-105addcf3f3b"
      },
      "execution_count": 9,
      "outputs": [
        {
          "output_type": "execute_result",
          "data": {
            "text/plain": [
              "Brand                        1\n",
              "Model                        1\n",
              "Operating System             3\n",
              "Connectivity                 1\n",
              "Display Type                 2\n",
              "Display Size (inches)        3\n",
              "Resolution                   4\n",
              "Water Resistance (meters)    1\n",
              "Battery Life (days)          1\n",
              "Heart Rate Monitor           1\n",
              "GPS                          1\n",
              "NFC                          1\n",
              "Price (USD)                  1\n",
              "dtype: int64"
            ]
          },
          "metadata": {},
          "execution_count": 9
        }
      ]
    },
    {
      "cell_type": "code",
      "source": [
        "# Drop rows with missing values\n",
        "df = df.dropna()"
      ],
      "metadata": {
        "id": "QtDfQ2Gw88SD"
      },
      "execution_count": 10,
      "outputs": []
    },
    {
      "cell_type": "code",
      "source": [
        "# Check for missing values\n",
        "df.isnull().sum()"
      ],
      "metadata": {
        "colab": {
          "base_uri": "https://localhost:8080/"
        },
        "id": "by0n_6wF9CDE",
        "outputId": "88039cd1-148f-4ca0-aeab-a844d4f8a753"
      },
      "execution_count": 11,
      "outputs": [
        {
          "output_type": "execute_result",
          "data": {
            "text/plain": [
              "Brand                        0\n",
              "Model                        0\n",
              "Operating System             0\n",
              "Connectivity                 0\n",
              "Display Type                 0\n",
              "Display Size (inches)        0\n",
              "Resolution                   0\n",
              "Water Resistance (meters)    0\n",
              "Battery Life (days)          0\n",
              "Heart Rate Monitor           0\n",
              "GPS                          0\n",
              "NFC                          0\n",
              "Price (USD)                  0\n",
              "dtype: int64"
            ]
          },
          "metadata": {},
          "execution_count": 11
        }
      ]
    },
    {
      "cell_type": "code",
      "source": [
        "# Remove duplicates\n",
        "df = df.drop_duplicates()"
      ],
      "metadata": {
        "id": "frC1snhb9IDp"
      },
      "execution_count": 12,
      "outputs": []
    },
    {
      "cell_type": "code",
      "source": [
        "# Sort the dataframe by price in descending order\n",
        "df_sorted = df.sort_values(by='Price (USD)', ascending=False)"
      ],
      "metadata": {
        "id": "0a9mnY4z9WIl"
      },
      "execution_count": 14,
      "outputs": []
    },
    {
      "cell_type": "code",
      "source": [
        "# Extract the name and brand of the most expensive smartwatch\n",
        "most_expensive = df_sorted.iloc[0][['Brand', 'Model']]"
      ],
      "metadata": {
        "id": "2HxJXOUf9amJ"
      },
      "execution_count": 15,
      "outputs": []
    },
    {
      "cell_type": "code",
      "source": [
        "# Print the name and brand of the most expensive smartwatch\n",
        "print(\"The most expensive smartwatch is the {} {}.\".format(most_expensive['Brand'], most_expensive['Model']))"
      ],
      "metadata": {
        "colab": {
          "base_uri": "https://localhost:8080/"
        },
        "id": "wjWauwCB9fae",
        "outputId": "043daec5-6bc3-433e-d750-d1ca5923a137"
      },
      "execution_count": 16,
      "outputs": [
        {
          "output_type": "stream",
          "name": "stdout",
          "text": [
            "The most expensive smartwatch is the Montblanc Summit 2.\n"
          ]
        }
      ]
    },
    {
      "cell_type": "code",
      "source": [
        "import matplotlib.pyplot as plt"
      ],
      "metadata": {
        "id": "x81dsb7y9llZ"
      },
      "execution_count": 17,
      "outputs": []
    },
    {
      "cell_type": "code",
      "source": [
        "# Analyze the data: \n",
        "# Get summary statistics for numerical columns\n",
        "df.describe()\n"
      ],
      "metadata": {
        "colab": {
          "base_uri": "https://localhost:8080/",
          "height": 300
        },
        "id": "CWkdVzR3ADPh",
        "outputId": "774a4465-1f14-44f5-e181-78b498e3a230"
      },
      "execution_count": 34,
      "outputs": [
        {
          "output_type": "execute_result",
          "data": {
            "text/plain": [
              "       Display Size (inches)\n",
              "count             376.000000\n",
              "mean                1.363165\n",
              "std                 0.218986\n",
              "min                 0.900000\n",
              "25%                 1.200000\n",
              "50%                 1.390000\n",
              "75%                 1.400000\n",
              "max                 4.010000"
            ],
            "text/html": [
              "\n",
              "  <div id=\"df-bfdcf24b-becd-4c53-9f0e-8b4b2ed84cf6\">\n",
              "    <div class=\"colab-df-container\">\n",
              "      <div>\n",
              "<style scoped>\n",
              "    .dataframe tbody tr th:only-of-type {\n",
              "        vertical-align: middle;\n",
              "    }\n",
              "\n",
              "    .dataframe tbody tr th {\n",
              "        vertical-align: top;\n",
              "    }\n",
              "\n",
              "    .dataframe thead th {\n",
              "        text-align: right;\n",
              "    }\n",
              "</style>\n",
              "<table border=\"1\" class=\"dataframe\">\n",
              "  <thead>\n",
              "    <tr style=\"text-align: right;\">\n",
              "      <th></th>\n",
              "      <th>Display Size (inches)</th>\n",
              "    </tr>\n",
              "  </thead>\n",
              "  <tbody>\n",
              "    <tr>\n",
              "      <th>count</th>\n",
              "      <td>376.000000</td>\n",
              "    </tr>\n",
              "    <tr>\n",
              "      <th>mean</th>\n",
              "      <td>1.363165</td>\n",
              "    </tr>\n",
              "    <tr>\n",
              "      <th>std</th>\n",
              "      <td>0.218986</td>\n",
              "    </tr>\n",
              "    <tr>\n",
              "      <th>min</th>\n",
              "      <td>0.900000</td>\n",
              "    </tr>\n",
              "    <tr>\n",
              "      <th>25%</th>\n",
              "      <td>1.200000</td>\n",
              "    </tr>\n",
              "    <tr>\n",
              "      <th>50%</th>\n",
              "      <td>1.390000</td>\n",
              "    </tr>\n",
              "    <tr>\n",
              "      <th>75%</th>\n",
              "      <td>1.400000</td>\n",
              "    </tr>\n",
              "    <tr>\n",
              "      <th>max</th>\n",
              "      <td>4.010000</td>\n",
              "    </tr>\n",
              "  </tbody>\n",
              "</table>\n",
              "</div>\n",
              "      <button class=\"colab-df-convert\" onclick=\"convertToInteractive('df-bfdcf24b-becd-4c53-9f0e-8b4b2ed84cf6')\"\n",
              "              title=\"Convert this dataframe to an interactive table.\"\n",
              "              style=\"display:none;\">\n",
              "        \n",
              "  <svg xmlns=\"http://www.w3.org/2000/svg\" height=\"24px\"viewBox=\"0 0 24 24\"\n",
              "       width=\"24px\">\n",
              "    <path d=\"M0 0h24v24H0V0z\" fill=\"none\"/>\n",
              "    <path d=\"M18.56 5.44l.94 2.06.94-2.06 2.06-.94-2.06-.94-.94-2.06-.94 2.06-2.06.94zm-11 1L8.5 8.5l.94-2.06 2.06-.94-2.06-.94L8.5 2.5l-.94 2.06-2.06.94zm10 10l.94 2.06.94-2.06 2.06-.94-2.06-.94-.94-2.06-.94 2.06-2.06.94z\"/><path d=\"M17.41 7.96l-1.37-1.37c-.4-.4-.92-.59-1.43-.59-.52 0-1.04.2-1.43.59L10.3 9.45l-7.72 7.72c-.78.78-.78 2.05 0 2.83L4 21.41c.39.39.9.59 1.41.59.51 0 1.02-.2 1.41-.59l7.78-7.78 2.81-2.81c.8-.78.8-2.07 0-2.86zM5.41 20L4 18.59l7.72-7.72 1.47 1.35L5.41 20z\"/>\n",
              "  </svg>\n",
              "      </button>\n",
              "      \n",
              "  <style>\n",
              "    .colab-df-container {\n",
              "      display:flex;\n",
              "      flex-wrap:wrap;\n",
              "      gap: 12px;\n",
              "    }\n",
              "\n",
              "    .colab-df-convert {\n",
              "      background-color: #E8F0FE;\n",
              "      border: none;\n",
              "      border-radius: 50%;\n",
              "      cursor: pointer;\n",
              "      display: none;\n",
              "      fill: #1967D2;\n",
              "      height: 32px;\n",
              "      padding: 0 0 0 0;\n",
              "      width: 32px;\n",
              "    }\n",
              "\n",
              "    .colab-df-convert:hover {\n",
              "      background-color: #E2EBFA;\n",
              "      box-shadow: 0px 1px 2px rgba(60, 64, 67, 0.3), 0px 1px 3px 1px rgba(60, 64, 67, 0.15);\n",
              "      fill: #174EA6;\n",
              "    }\n",
              "\n",
              "    [theme=dark] .colab-df-convert {\n",
              "      background-color: #3B4455;\n",
              "      fill: #D2E3FC;\n",
              "    }\n",
              "\n",
              "    [theme=dark] .colab-df-convert:hover {\n",
              "      background-color: #434B5C;\n",
              "      box-shadow: 0px 1px 3px 1px rgba(0, 0, 0, 0.15);\n",
              "      filter: drop-shadow(0px 1px 2px rgba(0, 0, 0, 0.3));\n",
              "      fill: #FFFFFF;\n",
              "    }\n",
              "  </style>\n",
              "\n",
              "      <script>\n",
              "        const buttonEl =\n",
              "          document.querySelector('#df-bfdcf24b-becd-4c53-9f0e-8b4b2ed84cf6 button.colab-df-convert');\n",
              "        buttonEl.style.display =\n",
              "          google.colab.kernel.accessAllowed ? 'block' : 'none';\n",
              "\n",
              "        async function convertToInteractive(key) {\n",
              "          const element = document.querySelector('#df-bfdcf24b-becd-4c53-9f0e-8b4b2ed84cf6');\n",
              "          const dataTable =\n",
              "            await google.colab.kernel.invokeFunction('convertToInteractive',\n",
              "                                                     [key], {});\n",
              "          if (!dataTable) return;\n",
              "\n",
              "          const docLinkHtml = 'Like what you see? Visit the ' +\n",
              "            '<a target=\"_blank\" href=https://colab.research.google.com/notebooks/data_table.ipynb>data table notebook</a>'\n",
              "            + ' to learn more about interactive tables.';\n",
              "          element.innerHTML = '';\n",
              "          dataTable['output_type'] = 'display_data';\n",
              "          await google.colab.output.renderOutput(dataTable, element);\n",
              "          const docLink = document.createElement('div');\n",
              "          docLink.innerHTML = docLinkHtml;\n",
              "          element.appendChild(docLink);\n",
              "        }\n",
              "      </script>\n",
              "    </div>\n",
              "  </div>\n",
              "  "
            ]
          },
          "metadata": {},
          "execution_count": 34
        }
      ]
    },
    {
      "cell_type": "code",
      "source": [
        "def plot_price_vs_battery(df):\n",
        "    \"\"\"\n",
        "    Plots a scatter plot of price vs battery life\n",
        "    \"\"\"\n",
        "    # Plot a scatter plot of price vs battery life\n",
        "    plt.scatter(df['Price (USD)'], df['Battery Life (days)'])\n",
        "    plt.xlabel('Price (USD)')\n",
        "    plt.ylabel('Battery Life (days)')\n",
        "    plt.title('Price vs Battery Life')\n",
        "    plt.show()\n"
      ],
      "metadata": {
        "id": "v26S-7TnAQhJ"
      },
      "execution_count": 35,
      "outputs": []
    },
    {
      "cell_type": "code",
      "source": [
        "import matplotlib.pyplot as plt\n",
        "\n",
        "def set_backend(backend='auto'):\n",
        "    \"\"\"\n",
        "    Sets the backend for matplotlib to the specified value\n",
        "    \"\"\"\n",
        "    plt.switch_backend(backend)\n"
      ],
      "metadata": {
        "id": "wUSJ9PWHAgFH"
      },
      "execution_count": 36,
      "outputs": []
    },
    {
      "cell_type": "code",
      "source": [
        "def show_plot():\n",
        "    \"\"\"\n",
        "    Shows the plot generated by matplotlib\n",
        "    \"\"\"\n",
        "    plt.show()\n"
      ],
      "metadata": {
        "id": "rBBcAguJAk4W"
      },
      "execution_count": 37,
      "outputs": []
    },
    {
      "cell_type": "code",
      "source": [
        "import matplotlib.pyplot as plt\n",
        "\n",
        "def plot_top_brands(df, n=10):\n",
        "    \"\"\"\n",
        "    Plots a bar plot of the top n most expensive smartwatch brands\n",
        "    \"\"\"\n",
        "    # Group by brand and get the mean price\n",
        "    brand_prices = df.groupby('Brand')['Price (USD)'].mean()\n",
        "    \n",
        "    # Sort by price in descending order and take the top n brands\n",
        "    top_brands = brand_prices.sort_values(ascending=False)[:n]\n",
        "    \n",
        "    # Plot the top brands\n",
        "    plt.bar(top_brands.index, top_brands.values)\n",
        "    plt.xticks(rotation=90)\n",
        "    plt.ylabel('Price (USD)')\n",
        "    plt.title('Top {} Most Expensive Smartwatch Brands'.format(n))\n",
        "    plt.show()\n"
      ],
      "metadata": {
        "id": "lep82_KAAxZZ"
      },
      "execution_count": 38,
      "outputs": []
    },
    {
      "cell_type": "code",
      "source": [
        "import matplotlib.pyplot as plt\n",
        "import numpy as np\n"
      ],
      "metadata": {
        "id": "3Y-vMAQiA7EG"
      },
      "execution_count": 39,
      "outputs": []
    },
    {
      "cell_type": "code",
      "source": [
        "def show_plot():\n",
        "    \"\"\"\n",
        "    Displays the plot in the output console\n",
        "    \"\"\"\n",
        "    plt.show()\n"
      ],
      "metadata": {
        "id": "yKxykxpDA9Qu"
      },
      "execution_count": 40,
      "outputs": []
    },
    {
      "cell_type": "code",
      "source": [
        "def save_plot(filename):\n",
        "    \"\"\"\n",
        "    Saves the plot to a file with the specified filename\n",
        "    \"\"\"\n",
        "    plt.savefig(filename)\n"
      ],
      "metadata": {
        "id": "2o5uXZJZA_2C"
      },
      "execution_count": 41,
      "outputs": []
    },
    {
      "cell_type": "code",
      "source": [
        "def plot_top_brands(df, n=10):\n",
        "    \"\"\"\n",
        "    Plots the top n most expensive brands in the dataframe\n",
        "    \"\"\"\n",
        "    # Group the dataframe by brand and get the mean price for each group\n",
        "    brand_prices = df.groupby('Brand')['Price (USD)'].mean()\n",
        "    # Get the top n brands by price\n",
        "    top_brands = brand_prices.nlargest(n)\n",
        "    # Plot the bar chart\n",
        "    fig, ax = plt.subplots()\n",
        "    top_brands.plot(kind='bar', ax=ax)\n",
        "    ax.set_title(f'Top {n} most expensive brands')\n",
        "    ax.set_xlabel('Brand')\n",
        "    ax.set_ylabel('Price (USD)')\n",
        "    plt.show()\n"
      ],
      "metadata": {
        "id": "RDgxFS6mBOff"
      },
      "execution_count": 43,
      "outputs": []
    },
    {
      "cell_type": "code",
      "source": [
        "def clean_price(df, column='Price (USD)'):\n",
        "    \"\"\"\n",
        "    Removes dollar signs from a column and converts the values to numeric\n",
        "    \"\"\"\n",
        "    # Remove dollar signs from the column\n",
        "    df[column] = df[column].str.replace('$', '')\n",
        "    # Convert the column to numeric\n",
        "    df[column] = pd.to_numeric(df[column])\n",
        "    return df\n"
      ],
      "metadata": {
        "id": "uy3Dv_MABaPR"
      },
      "execution_count": 45,
      "outputs": []
    },
    {
      "cell_type": "code",
      "source": [
        "def clean_price(df, column='Price (USD)'):\n",
        "    \"\"\"\n",
        "    Removes dollar signs and commas from a column and converts the values to numeric\n",
        "    \"\"\"\n",
        "    # Remove dollar signs and commas from the column\n",
        "    df[column] = df[column].str.replace('$', '').str.replace(',', '')\n",
        "    # Convert the column to numeric\n",
        "    df[column] = pd.to_numeric(df[column])\n",
        "    return df\n"
      ],
      "metadata": {
        "id": "NXt8TZmSBm9F"
      },
      "execution_count": 47,
      "outputs": []
    },
    {
      "cell_type": "code",
      "source": [
        "# Clean the 'Price (USD)' column\n",
        "df = clean_price(df)\n"
      ],
      "metadata": {
        "colab": {
          "base_uri": "https://localhost:8080/"
        },
        "id": "CtLjjW1NBp5a",
        "outputId": "c3cf7f78-bc95-4e7a-e680-9b2ed6120deb"
      },
      "execution_count": 48,
      "outputs": [
        {
          "output_type": "stream",
          "name": "stderr",
          "text": [
            "<ipython-input-47-aca06f772bf9>:6: FutureWarning: The default value of regex will change from True to False in a future version. In addition, single character regular expressions will *not* be treated as literal strings when regex=True.\n",
            "  df[column] = df[column].str.replace('$', '').str.replace(',', '')\n"
          ]
        }
      ]
    },
    {
      "cell_type": "code",
      "source": [
        "def plot_top_brands(df, n=10):\n",
        "    \"\"\"\n",
        "    Plots the top n most expensive brands in the dataframe\n",
        "    \"\"\"\n",
        "    # Group the dataframe by brand and get the mean price for each group\n",
        "    brand_prices = df.groupby('Brand')['Price (USD)'].mean()\n",
        "    # Get the top n brands by price\n",
        "    top_brands = brand_prices.nlargest(n)\n",
        "    # Plot the bar chart\n",
        "    fig, ax = plt.subplots()\n",
        "    top_brands.plot(kind='bar', ax=ax)\n",
        "    ax.set_title(f'Top {n} most expensive brands')\n",
        "    ax.set_xlabel('Brand')\n",
        "    ax.set_ylabel('Price (USD)')\n",
        "    plt.show()\n"
      ],
      "metadata": {
        "id": "a-a6hD8RBu34"
      },
      "execution_count": 49,
      "outputs": []
    },
    {
      "cell_type": "code",
      "source": [
        "plot_top_brands(df, n=10)\n"
      ],
      "metadata": {
        "colab": {
          "base_uri": "https://localhost:8080/",
          "height": 570
        },
        "id": "5O3ai777By8q",
        "outputId": "4f497752-3946-4630-b74d-97b23a79a608"
      },
      "execution_count": 50,
      "outputs": [
        {
          "output_type": "display_data",
          "data": {
            "text/plain": [
              "<Figure size 640x480 with 1 Axes>"
            ],
            "image/png": "[encoded data removed]"
          },
          "metadata": {}
        }
      ]
    },
    {
      "cell_type": "code",
      "source": [
        "def plot_price_vs_battery(df):\n",
        "    \"\"\"\n",
        "    Plots a scatter plot of price vs battery life\n",
        "    \"\"\"\n",
        "    # Plot a scatter plot of price vs battery life\n",
        "    plt.scatter(df['Price (USD)'], df['Battery Life (days)'])\n",
        "    plt.xlabel('Price (USD)')\n",
        "    plt.ylabel('Battery Life (days)')\n",
        "    plt.title('Price vs Battery Life')\n",
        "    plt.show()\n"
      ],
      "metadata": {
        "id": "VYN-_D0UCeNQ"
      },
      "execution_count": 51,
      "outputs": []
    },
    {
      "cell_type": "code",
      "source": [
        "def plot_brand_prices(df):\n",
        "    \"\"\"\n",
        "    Plots a box plot of the distribution of prices for each brand\n",
        "    \"\"\"\n",
        "    # Plot a box plot of the distribution of prices for each brand\n",
        "    df.boxplot(column=['Price (USD)'], by=['Brand'], rot=90)\n",
        "    plt.ylabel('Price (USD)')\n",
        "    plt.title('Distribution of Prices for Each Brand')\n",
        "    plt.show()\n"
      ],
      "metadata": {
        "id": "tMN_oDM4Chsx"
      },
      "execution_count": 52,
      "outputs": []
    },
    {
      "cell_type": "code",
      "source": [
        "def clean_water_resistance(df, column='Water Resistance (meters)'):\n",
        "    \"\"\"\n",
        "    Cleans the water resistance column by replacing non-numeric values with NaN\n",
        "    \"\"\"\n",
        "    # Replace non-numeric values with NaN\n",
        "    df[column] = pd.to_numeric(df[column], errors='coerce')\n",
        "    return df\n"
      ],
      "metadata": {
        "id": "-iBa9kTWCvNA"
      },
      "execution_count": 54,
      "outputs": []
    },
    {
      "cell_type": "code",
      "source": [
        "# Clean the 'Water Resistance (meters)' column\n",
        "df = clean_water_resistance(df)\n"
      ],
      "metadata": {
        "id": "dqhz5ciRCx8j"
      },
      "execution_count": 55,
      "outputs": []
    },
    {
      "cell_type": "code",
      "source": [
        "plot_brand_prices(df)"
      ],
      "metadata": {
        "colab": {
          "base_uri": "https://localhost:8080/",
          "height": 576
        },
        "id": "IWA_UUegDc5A",
        "outputId": "e5a07127-aa5e-49d9-b69e-0b6532d74b2b"
      },
      "execution_count": 57,
      "outputs": [
        {
          "output_type": "display_data",
          "data": {
            "text/plain": [
              "<Figure size 640x480 with 1 Axes>"
            ],
            "image/png": "[encoded data removed]"
          },
          "metadata": {}
        }
      ]
    },
    {
      "cell_type": "code",
      "source": [
        "def clean_battery_life(df, column='Battery Life (days)'):\n",
        "    \"\"\"\n",
        "    Cleans the battery life column by replacing non-numeric values with NaN\n",
        "    \"\"\"\n",
        "    # Replace non-numeric values with NaN\n",
        "    df[column] = pd.to_numeric(df[column], errors='coerce')\n",
        "    return df\n"
      ],
      "metadata": {
        "id": "T1UPuV-rJs2u"
      },
      "execution_count": 58,
      "outputs": []
    },
    {
      "cell_type": "code",
      "source": [
        "# Clean the 'Battery Life (days)' column\n",
        "df = clean_battery_life(df)\n"
      ],
      "metadata": {
        "id": "L7Xo56iqJw6z"
      },
      "execution_count": 59,
      "outputs": []
    },
    {
      "cell_type": "code",
      "source": [
        "plot_price_vs_battery(df)"
      ],
      "metadata": {
        "colab": {
          "base_uri": "https://localhost:8080/",
          "height": 472
        },
        "id": "2R2C0aLnJ3Uv",
        "outputId": "5a74f00e-577e-4405-9f2d-e288427b9d14"
      },
      "execution_count": 60,
      "outputs": [
        {
          "output_type": "display_data",
          "data": {
            "text/plain": [
              "<Figure size 640x480 with 1 Axes>"
            ],
            "image/png": "[encoded data removed]"
          },
          "metadata": {}
        }
      ]
    },
    {
      "cell_type": "code",
      "source": [
        "import pandas as pd\n",
        "import matplotlib.pyplot as plt\n",
        "\n",
        "def load_data(filepath):\n",
        "    \"\"\"\n",
        "    Load the smartwatch data from a CSV file and return as a pandas DataFrame.\n",
        "    \"\"\"\n",
        "    df = pd.read_csv(filepath)\n",
        "    return df\n",
        "\n",
        "def clean_data(df):\n",
        "    \"\"\"\n",
        "    Clean the smartwatch data by dropping rows with missing values and converting\n",
        "    the 'Price (USD)' column to a numeric data type.\n",
        "    \"\"\"\n",
        "    df = df.dropna()\n",
        "    df['Price (USD)'] = pd.to_numeric(df['Price (USD)'].str.replace(',', '').str.strip('$'))\n",
        "    return df\n",
        "\n",
        "def plot_connectivity_options(df):\n",
        "    \"\"\"\n",
        "    Create a bar chart showing the connectivity options of the top 10 most expensive smartwatches.\n",
        "    \"\"\"\n",
        "    top_10 = df.nlargest(10, 'Price (USD)')\n",
        "    connectivity_counts = top_10['Connectivity'].value_counts()\n",
        "    connectivity_counts.plot(kind='bar')\n",
        "    plt.title('Connectivity Options of Top 10 Most Expensive Smartwatches')\n",
        "    plt.xlabel('Connectivity Options')\n",
        "    plt.ylabel('Count')\n",
        "    plt.show()\n"
      ],
      "metadata": {
        "id": "GpXEPpnBQD8p"
      },
      "execution_count": 66,
      "outputs": []
    },
    {
      "cell_type": "code",
      "source": [
        "import seaborn as sns\n",
        "\n",
        "def plot_top10_connectivity(df):\n",
        "    # Filter the top 10 expensive smartwatches\n",
        "    top10 = df.nlargest(10, 'Price (USD)')\n",
        "    \n",
        "    # Get the connectivity options\n",
        "    connectivity_cols = ['Bluetooth', 'Wi-Fi', 'Cellular']\n",
        "    connectivity = top10[connectivity_cols].sum().reset_index()\n",
        "    connectivity.columns = ['Connectivity', 'Count']\n",
        "    \n",
        "    # Plot the data\n",
        "    sns.set_style('whitegrid')\n",
        "    sns.barplot(x='Connectivity', y='Count', data=connectivity, palette='pastel')\n",
        "    plt.title('Connectivity Options of Top 10 Expensive Smartwatches')\n",
        "    plt.xlabel('Connectivity')\n",
        "    plt.ylabel('Count')\n",
        "    plt.show()\n"
      ],
      "metadata": {
        "id": "TfvW-hCXQZf2"
      },
      "execution_count": 68,
      "outputs": []
    },
    {
      "cell_type": "code",
      "source": [
        "import pandas as pd\n",
        "import matplotlib.pyplot as plt\n",
        "\n",
        "# Load the dataset\n",
        "df = pd.read_csv('Smart watch prices.csv')\n",
        "\n",
        "# Function to clean the Price column and convert it to numeric\n",
        "def clean_price(df):\n",
        "    df['Price (USD)'] = df['Price (USD)'].str.replace('$', '')\n",
        "    df['Price (USD)'] = pd.to_numeric(df['Price (USD)'], errors='coerce')\n",
        "    return df\n",
        "\n",
        "# Function to clean the Connectivity column and split it into Bluetooth, Wifi, and Cellular\n",
        "def clean_connectivity(df):\n",
        "    connectivity_df = df['Connectivity'].str.split(',', expand=True)\n",
        "    connectivity_df.columns = ['Bluetooth', 'Wifi', 'Cellular']\n",
        "    connectivity_df = connectivity_df.apply(lambda x: x.str.strip() if x.dtype == \"object\" else x)\n",
        "    df = pd.concat([df, connectivity_df], axis=1)\n",
        "    return df\n",
        "\n",
        "# Function to get the top 10 most expensive watches\n",
        "def get_top_10_expensive(df):\n",
        "    return df.nlargest(10, 'Price (USD)')\n",
        "\n",
        "# Function to plot the bar chart of connectivity options for the top 10 most expensive watches\n",
        "def plot_connectivity_options(df):\n",
        "    top_10_df = get_top_10_expensive(df)\n",
        "    connectivity_options = top_10_df[['Bluetooth', 'Wifi', 'Cellular']].apply(pd.Series.value_counts).fillna(0)\n",
        "    ax = connectivity_options.plot(kind='bar', rot=0)\n",
        "    ax.set_xlabel('Connectivity Options')\n",
        "    ax.set_ylabel('Number of Watches')\n",
        "    ax.set_title('Connectivity Options for Top 10 Most Expensive Watches')\n",
        "    plt.show()\n"
      ],
      "metadata": {
        "id": "GTOfhhPbQ3Xy"
      },
      "execution_count": 73,
      "outputs": []
    },
    {
      "cell_type": "code",
      "source": [
        "cleaned_df = clean_price(df)\n",
        "cleaned_df = clean_connectivity(cleaned_df)\n",
        "plot_connectivity_options(cleaned_df)\n"
      ],
      "metadata": {
        "colab": {
          "base_uri": "https://localhost:8080/",
          "height": 527
        },
        "id": "T-w5WoxlRGTr",
        "outputId": "6fba2c4c-5ae9-472d-c5e9-ed8222051fe8"
      },
      "execution_count": 74,
      "outputs": [
        {
          "output_type": "stream",
          "name": "stderr",
          "text": [
            "<ipython-input-73-d800c94e4608>:9: FutureWarning: The default value of regex will change from True to False in a future version. In addition, single character regular expressions will *not* be treated as literal strings when regex=True.\n",
            "  df['Price (USD)'] = df['Price (USD)'].str.replace('$', '')\n"
          ]
        },
        {
          "output_type": "display_data",
          "data": {
            "text/plain": [
              "<Figure size 640x480 with 1 Axes>"
            ],
            "image/png": "[encoded data removed]"
          },
          "metadata": {}
        }
      ]
    },
    {
      "cell_type": "code",
      "source": [
        "import matplotlib.pyplot as plt\n",
        "import seaborn as sns\n",
        "\n",
        "def plot_display_type(dataframe):\n",
        "    \"\"\"\n",
        "    This function plots a bar chart of the display types of the top 10 expensive watches in the dataset.\n",
        "    \"\"\"\n",
        "    top_10 = dataframe.nlargest(10, 'Price (USD)')\n",
        "    plt.figure(figsize=(8,6))\n",
        "    ax = sns.countplot(y=\"Display Type\", data=top_10, palette='Set2')\n",
        "    plt.title('Display Type of Top 10 Expensive Watches')\n",
        "    plt.xlabel('Count')\n",
        "    plt.ylabel('Display Type')\n",
        "    plt.show()\n",
        "    \n",
        "def plot_display_size(dataframe):\n",
        "    \"\"\"\n",
        "    This function plots a bar chart of the display sizes of the top 10 expensive watches in the dataset.\n",
        "    \"\"\"\n",
        "    top_10 = dataframe.nlargest(10, 'Price (USD)')\n",
        "    plt.figure(figsize=(8,6))\n",
        "    ax = sns.barplot(x=\"Display Size (inches)\", y=\"Model\", data=top_10, palette='Set2')\n",
        "    plt.title('Display Size of Top 10 Expensive Watches')\n",
        "    plt.xlabel('Display Size (inches)')\n",
        "    plt.ylabel('Model')\n",
        "    plt.show()\n"
      ],
      "metadata": {
        "id": "uq2PRx_8STCy"
      },
      "execution_count": 75,
      "outputs": []
    },
    {
      "cell_type": "code",
      "source": [
        "plot_display_type(cleaned_df)\n",
        "plot_display_size(cleaned_df)\n"
      ],
      "metadata": {
        "colab": {
          "base_uri": "https://localhost:8080/",
          "height": 1000
        },
        "id": "9668rSBfSXzF",
        "outputId": "82a06e6e-bfdd-4c88-b2ac-e2f950927142"
      },
      "execution_count": 76,
      "outputs": [
        {
          "output_type": "display_data",
          "data": {
            "text/plain": [
              "<Figure size 800x600 with 1 Axes>"
            ],
            "image/png": "[encoded data removed]"
          },
          "metadata": {}
        },
        {
          "output_type": "display_data",
          "data": {
            "text/plain": [
              "<Figure size 800x600 with 1 Axes>"
            ],
            "image/png": "[encoded data removed]"
          },
          "metadata": {}
        }
      ]
    },
    {
      "cell_type": "code",
      "source": [
        "import matplotlib.pyplot as plt\n",
        "import seaborn as sns\n",
        "\n",
        "# function to plot the scatter plot\n",
        "def plot_display_vs_price(df):\n",
        "    # filter top 10 expensive watches\n",
        "    top_10 = df.nlargest(10, 'Price (USD)')\n",
        "    \n",
        "    # create scatter plot\n",
        "    plt.figure(figsize=(10, 6))\n",
        "    sns.scatterplot(x='Display Size (inches)', y='Price (USD)', data=top_10)\n",
        "    \n",
        "    # set plot title and axis labels\n",
        "    plt.title('Display Size vs. Price of Top 10 Expensive Smartwatches')\n",
        "    plt.xlabel('Display Size (inches)')\n",
        "    plt.ylabel('Price (USD)')\n",
        "    \n",
        "    # show plot\n",
        "    plt.show()\n"
      ],
      "metadata": {
        "id": "2rokBLyTTYxw"
      },
      "execution_count": 77,
      "outputs": []
    },
    {
      "cell_type": "code",
      "source": [
        "plot_display_vs_price(cleaned_df)"
      ],
      "metadata": {
        "colab": {
          "base_uri": "https://localhost:8080/",
          "height": 564
        },
        "id": "r3RXLSKeTd7L",
        "outputId": "87f81c61-a5e2-450a-8ff4-5d625dd1df16"
      },
      "execution_count": 78,
      "outputs": [
        {
          "output_type": "display_data",
          "data": {
            "text/plain": [
              "<Figure size 1000x600 with 1 Axes>"
            ],
            "image/png": "[encoded data removed]"
          },
          "metadata": {}
        }
      ]
    }
  ]
}